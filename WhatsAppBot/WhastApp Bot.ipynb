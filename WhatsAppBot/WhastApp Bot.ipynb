{
 "cells": [
  {
   "cell_type": "code",
   "execution_count": 14,
   "metadata": {},
   "outputs": [],
   "source": [
    "from selenium import webdriver\n",
    "import time\n",
    "driver=webdriver.Chrome()\n",
    "driver.get(\"https://web.whatsapp.com/\")\n",
    "\n",
    "time.sleep(10)\n",
    "driver.find_element_by_xpath(\"//*[@id='side']/div[1]/div/label/div/div[2]\").send_keys(\"Nouman ku\")\n",
    "time.sleep(3)\n",
    "driver.find_element_by_xpath(\"//*[@id='pane-side']/div[1]/div/div/div[13]/div/div/div[2]/div[1]/div[1]/span/span/span\").click()\n",
    "time.sleep(2)\n",
    "for i in range(100):\n",
    "    driver.find_element_by_xpath(\"//*[@id='main']/footer/div[1]/div[2]/div/div[2]\").send_keys(str(i))\n",
    "    driver.find_element_by_xpath(\"//*[@id='main']/footer/div[1]/div[3]/button/span\").click()\n",
    "driver.close()"
   ]
  },
  {
   "cell_type": "code",
   "execution_count": null,
   "metadata": {},
   "outputs": [],
   "source": []
  }
 ],
 "metadata": {
  "kernelspec": {
   "display_name": "Python 3",
   "language": "python",
   "name": "python3"
  },
  "language_info": {
   "codemirror_mode": {
    "name": "ipython",
    "version": 3
   },
   "file_extension": ".py",
   "mimetype": "text/x-python",
   "name": "python",
   "nbconvert_exporter": "python",
   "pygments_lexer": "ipython3",
   "version": "3.6.10"
  }
 },
 "nbformat": 4,
 "nbformat_minor": 4
}
